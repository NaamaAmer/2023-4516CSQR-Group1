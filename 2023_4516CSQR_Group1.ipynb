{
  "nbformat": 4,
  "nbformat_minor": 0,
  "metadata": {
    "colab": {
      "provenance": [],
      "authorship_tag": "ABX9TyPiasTnGKcPGPicHM/a2Vzu",
      "include_colab_link": true
    },
    "kernelspec": {
      "name": "python3",
      "display_name": "Python 3"
    },
    "language_info": {
      "name": "python"
    }
  },
  "cells": [
    {
      "cell_type": "markdown",
      "metadata": {
        "id": "view-in-github",
        "colab_type": "text"
      },
      "source": [
        "<a href=\"https://colab.research.google.com/github/NaamaAmer/2023-4516CSQR-Group1/blob/main/2023_4516CSQR_Group1.ipynb\" target=\"_parent\"><img src=\"https://colab.research.google.com/assets/colab-badge.svg\" alt=\"Open In Colab\"/></a>"
      ]
    },
    {
      "cell_type": "code",
      "execution_count": null,
      "metadata": {
        "id": "vIy_Ol_VFxmY"
      },
      "outputs": [],
      "source": []
    },
    {
      "cell_type": "markdown",
      "source": [
        "Importing Data Set\n"
      ],
      "metadata": {
        "id": "S3sRO-lYSLcV"
      }
    },
    {
      "cell_type": "code",
      "source": [],
      "metadata": {
        "id": "B16oVp5TSW8K"
      },
      "execution_count": null,
      "outputs": []
    }
  ]
}